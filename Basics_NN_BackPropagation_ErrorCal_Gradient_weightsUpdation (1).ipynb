{
  "nbformat": 4,
  "nbformat_minor": 0,
  "metadata": {
    "colab": {
      "provenance": []
    },
    "kernelspec": {
      "name": "python3",
      "display_name": "Python 3"
    },
    "language_info": {
      "name": "python"
    }
  },
  "cells": [
    {
      "cell_type": "code",
      "execution_count": null,
      "metadata": {
        "id": "YNqOa7PIoJi9"
      },
      "outputs": [],
      "source": [
        "# We are going to create a Neural Network from scratch, we will use this to solve a equation\n",
        "\n",
        "# lets say we have an equation\n",
        "# y = 3x1 + 4x2\n",
        "# x1, x2 are input  & y is the output\n",
        "\n",
        "\n",
        "# x1 | x2 |  y\n",
        "# 3  | 2  | 17\n",
        "\n",
        "\n",
        "# we have to build a model which will take input as `x1` & `x2`\n",
        "# corectly predict the output `y`\n",
        "\n",
        "x1 = 3\n",
        "x2 = 2\n",
        "y_actual = 17"
      ]
    },
    {
      "cell_type": "code",
      "source": [
        "import numpy as np\n",
        "import pandas as pd\n",
        "import matplotlib.pyplot as plt"
      ],
      "metadata": {
        "id": "n4JPQ2Tqpj2H"
      },
      "execution_count": null,
      "outputs": []
    },
    {
      "cell_type": "code",
      "source": [
        "# Phase I - Feed Forward Neural Network\n",
        "# 1.1 Assign random weights\n",
        "# 1.2 affine equation\n",
        "\n",
        "# we want 2 random weights\n",
        "w1 = np.random.randint(1, 10)\n",
        "w2 = np.random.randint(1, 10)\n",
        "w1, w2"
      ],
      "metadata": {
        "colab": {
          "base_uri": "https://localhost:8080/"
        },
        "id": "AcdyxIjjpnjY",
        "outputId": "f46ddd33-7d95-4e3e-c550-572df60e701f"
      },
      "execution_count": null,
      "outputs": [
        {
          "output_type": "execute_result",
          "data": {
            "text/plain": [
              "(9, 8)"
            ]
          },
          "metadata": {},
          "execution_count": 4
        }
      ]
    },
    {
      "cell_type": "code",
      "source": [
        "# 1.2 Affine Equation\n",
        "y_pred = w1*x1 + w2*x2"
      ],
      "metadata": {
        "id": "0VEz53Scppie"
      },
      "execution_count": null,
      "outputs": []
    },
    {
      "cell_type": "code",
      "source": [
        "y_pred"
      ],
      "metadata": {
        "colab": {
          "base_uri": "https://localhost:8080/"
        },
        "id": "QmzDngwHprEH",
        "outputId": "30a20e5a-4ee2-4e89-c4d0-343e78ff9e33"
      },
      "execution_count": null,
      "outputs": [
        {
          "output_type": "execute_result",
          "data": {
            "text/plain": [
              "43"
            ]
          },
          "metadata": {},
          "execution_count": 6
        }
      ]
    },
    {
      "cell_type": "code",
      "source": [
        "# Phase II - Error Calculation\n",
        "# 2.1 Calculate the error\n",
        "error = (y_pred - y_actual)**2"
      ],
      "metadata": {
        "id": "k4Lb0p4qpsJk"
      },
      "execution_count": null,
      "outputs": []
    },
    {
      "cell_type": "code",
      "source": [
        "error"
      ],
      "metadata": {
        "colab": {
          "base_uri": "https://localhost:8080/"
        },
        "id": "bp-2VH4QpuEU",
        "outputId": "05f6722d-c506-46ca-edb0-eaddf172ab31"
      },
      "execution_count": null,
      "outputs": [
        {
          "output_type": "execute_result",
          "data": {
            "text/plain": [
              "676"
            ]
          },
          "metadata": {},
          "execution_count": 8
        }
      ]
    },
    {
      "cell_type": "code",
      "source": [
        "# Phase III - Back Propagation\n",
        "# 3.1 Calculate the gradients\n",
        "# 3.2 weight updation\n",
        "\n",
        "dedw1 = 2*(y_pred - y_actual)*x1\n",
        "dedw2 = 2*(y_pred - y_actual)*x2"
      ],
      "metadata": {
        "id": "Yz5b8RjTpuu6"
      },
      "execution_count": null,
      "outputs": []
    },
    {
      "cell_type": "code",
      "source": [
        "dedw1, dedw2"
      ],
      "metadata": {
        "colab": {
          "base_uri": "https://localhost:8080/"
        },
        "id": "y89xSyfapwc1",
        "outputId": "379bb430-3939-484a-875b-4aafe2b8c4eb"
      },
      "execution_count": null,
      "outputs": [
        {
          "output_type": "execute_result",
          "data": {
            "text/plain": [
              "(156, 104)"
            ]
          },
          "metadata": {},
          "execution_count": 10
        }
      ]
    },
    {
      "cell_type": "code",
      "source": [
        "# 3.2 Weight updation\n",
        "w1 = w1 - dedw1\n",
        "w2 = w2 - dedw2"
      ],
      "metadata": {
        "id": "1vVtd3CEpxfH"
      },
      "execution_count": null,
      "outputs": []
    },
    {
      "cell_type": "code",
      "source": [
        "w1,w2"
      ],
      "metadata": {
        "colab": {
          "base_uri": "https://localhost:8080/"
        },
        "id": "ztxQPYtppzmG",
        "outputId": "6646a1df-18c3-49fa-bfbc-e7876bb2cab0"
      },
      "execution_count": null,
      "outputs": [
        {
          "output_type": "execute_result",
          "data": {
            "text/plain": [
              "(-147, -96)"
            ]
          },
          "metadata": {},
          "execution_count": 12
        }
      ]
    },
    {
      "cell_type": "code",
      "source": [
        "w1*x1 + w2*x2"
      ],
      "metadata": {
        "colab": {
          "base_uri": "https://localhost:8080/"
        },
        "id": "eKNigSnwp1Ii",
        "outputId": "c3d59ef2-43d5-4441-bdd6-fd0bdab3aafa"
      },
      "execution_count": null,
      "outputs": [
        {
          "output_type": "execute_result",
          "data": {
            "text/plain": [
              "-633"
            ]
          },
          "metadata": {},
          "execution_count": 13
        }
      ]
    },
    {
      "cell_type": "code",
      "source": [
        "# We never expected this is give correct results in just one iteration\n",
        "# we need to add more iteration"
      ],
      "metadata": {
        "id": "_3HO9l_Cp4Pe"
      },
      "execution_count": null,
      "outputs": []
    },
    {
      "cell_type": "code",
      "source": [
        "w1 = np.random.randint(1, 100)\n",
        "w2 = np.random.randint(1, 100)\n",
        "\n",
        "y_pred_list = []\n",
        "error_list = []\n",
        "w1_list = []\n",
        "w2_list = []\n",
        "lr = 0.01\n",
        "\n",
        "for epoch in range(1, 50):\n",
        "  # affine equation\n",
        "  y_pred = x1*w1 + x2*w2\n",
        "  y_pred_list.append(y_pred)\n",
        "  w1_list.append(w1)\n",
        "  w2_list.append(w2)\n",
        "\n",
        "  # error calc\n",
        "  error = (y_pred - y_actual)**2\n",
        "  error_list.append(error)\n",
        "\n",
        "  # gradient calc\n",
        "  dedw1 = 2*(y_pred - y_actual)*(x1)\n",
        "  dedw2 = 2*(y_pred - y_actual)*(x2)\n",
        "\n",
        "  # weight updation\n",
        "  w1 = w1 - lr*dedw1\n",
        "  w2 = w2 - lr*dedw2\n",
        "  print(f\"Iteration: {epoch} y_actual: {y_actual} & y_pred: {y_pred}\")"
      ],
      "metadata": {
        "colab": {
          "base_uri": "https://localhost:8080/"
        },
        "id": "HBt2SFzVp6FU",
        "outputId": "2038c572-4325-41aa-c91e-b554ecd93291"
      },
      "execution_count": null,
      "outputs": [
        {
          "output_type": "stream",
          "name": "stdout",
          "text": [
            "Iteration: 1 y_actual: 17 & y_pred: 202\n",
            "Iteration: 2 y_actual: 17 & y_pred: 153.89999999999998\n",
            "Iteration: 3 y_actual: 17 & y_pred: 118.306\n",
            "Iteration: 4 y_actual: 17 & y_pred: 91.96643999999999\n",
            "Iteration: 5 y_actual: 17 & y_pred: 72.47516560000001\n",
            "Iteration: 6 y_actual: 17 & y_pred: 58.05162254400001\n",
            "Iteration: 7 y_actual: 17 & y_pred: 47.37820068256\n",
            "Iteration: 8 y_actual: 17 & y_pred: 39.4798685050944\n",
            "Iteration: 9 y_actual: 17 & y_pred: 33.63510269376985\n",
            "Iteration: 10 y_actual: 17 & y_pred: 29.30997599338969\n",
            "Iteration: 11 y_actual: 17 & y_pred: 26.10938223510837\n",
            "Iteration: 12 y_actual: 17 & y_pred: 23.740942853980194\n",
            "Iteration: 13 y_actual: 17 & y_pred: 21.98829771194534\n",
            "Iteration: 14 y_actual: 17 & y_pred: 20.69134030683955\n",
            "Iteration: 15 y_actual: 17 & y_pred: 19.73159182706127\n",
            "Iteration: 16 y_actual: 17 & y_pred: 19.02137795202534\n",
            "Iteration: 17 y_actual: 17 & y_pred: 18.49581968449875\n",
            "Iteration: 18 y_actual: 17 & y_pred: 18.106906566529076\n",
            "Iteration: 19 y_actual: 17 & y_pred: 17.819110859231518\n",
            "Iteration: 20 y_actual: 17 & y_pred: 17.606142035831326\n",
            "Iteration: 21 y_actual: 17 & y_pred: 17.448545106515176\n",
            "Iteration: 22 y_actual: 17 & y_pred: 17.33192337882123\n",
            "Iteration: 23 y_actual: 17 & y_pred: 17.24562330032771\n",
            "Iteration: 24 y_actual: 17 & y_pred: 17.18176124224251\n",
            "Iteration: 25 y_actual: 17 & y_pred: 17.13450331925946\n",
            "Iteration: 26 y_actual: 17 & y_pred: 17.099532456252\n",
            "Iteration: 27 y_actual: 17 & y_pred: 17.073654017626485\n",
            "Iteration: 28 y_actual: 17 & y_pred: 17.054503973043598\n",
            "Iteration: 29 y_actual: 17 & y_pred: 17.040332940052263\n",
            "Iteration: 30 y_actual: 17 & y_pred: 17.029846375638677\n",
            "Iteration: 31 y_actual: 17 & y_pred: 17.02208631797262\n",
            "Iteration: 32 y_actual: 17 & y_pred: 17.01634387529974\n",
            "Iteration: 33 y_actual: 17 & y_pred: 17.012094467721806\n",
            "Iteration: 34 y_actual: 17 & y_pred: 17.008949906114136\n",
            "Iteration: 35 y_actual: 17 & y_pred: 17.006622930524458\n",
            "Iteration: 36 y_actual: 17 & y_pred: 17.004900968588103\n",
            "Iteration: 37 y_actual: 17 & y_pred: 17.003626716755193\n",
            "Iteration: 38 y_actual: 17 & y_pred: 17.002683770398846\n",
            "Iteration: 39 y_actual: 17 & y_pred: 17.001985990095147\n",
            "Iteration: 40 y_actual: 17 & y_pred: 17.001469632670407\n",
            "Iteration: 41 y_actual: 17 & y_pred: 17.001087528176107\n",
            "Iteration: 42 y_actual: 17 & y_pred: 17.00080477085032\n",
            "Iteration: 43 y_actual: 17 & y_pred: 17.000595530429234\n",
            "Iteration: 44 y_actual: 17 & y_pred: 17.000440692517632\n",
            "Iteration: 45 y_actual: 17 & y_pred: 17.00032611246305\n",
            "Iteration: 46 y_actual: 17 & y_pred: 17.00024132322266\n",
            "Iteration: 47 y_actual: 17 & y_pred: 17.00017857918477\n",
            "Iteration: 48 y_actual: 17 & y_pred: 17.000132148596727\n",
            "Iteration: 49 y_actual: 17 & y_pred: 17.00009778996158\n"
          ]
        }
      ]
    },
    {
      "cell_type": "code",
      "source": [
        "plt.figure(figsize=(20, 5))\n",
        "plt.plot(error_list)\n",
        "plt.title(\"Error Graph\")\n",
        "plt.xlabel(\"epochs\")\n",
        "plt.ylabel('error')\n",
        "plt.xticks(np.arange(0, 50))\n",
        "plt.show()"
      ],
      "metadata": {
        "colab": {
          "base_uri": "https://localhost:8080/",
          "height": 348
        },
        "id": "uQcKNqtup8iY",
        "outputId": "871e4bea-7577-4f41-b632-6351179030e1"
      },
      "execution_count": null,
      "outputs": [
        {
          "output_type": "display_data",
          "data": {
            "text/plain": [
              "<Figure size 2000x500 with 1 Axes>"
            ],
            "image/png": "[encoded data removed]"
          },
          "metadata": {}
        }
      ]
    },
    {
      "cell_type": "code",
      "source": [
        "error"
      ],
      "metadata": {
        "colab": {
          "base_uri": "https://localhost:8080/"
        },
        "id": "r4ltOqvGp_s9",
        "outputId": "8d084fb0-dffd-43b7-97f8-50329be19095"
      },
      "execution_count": null,
      "outputs": [
        {
          "output_type": "execute_result",
          "data": {
            "text/plain": [
              "9.56287658563274e-09"
            ]
          },
          "metadata": {},
          "execution_count": 21
        }
      ]
    },
    {
      "cell_type": "code",
      "source": [
        "plt.subplot(1,2,1)\n",
        "plt.plot(w1_list)\n",
        "\n",
        "plt.subplot(1,2,2)\n",
        "plt.plot(w2_list)"
      ],
      "metadata": {
        "colab": {
          "base_uri": "https://localhost:8080/",
          "height": 447
        },
        "id": "k_ciIb3WqCMd",
        "outputId": "59f069fb-63c0-45df-bd97-e0eab38d37c0"
      },
      "execution_count": null,
      "outputs": [
        {
          "output_type": "execute_result",
          "data": {
            "text/plain": [
              "[<matplotlib.lines.Line2D at 0x7d3a2cce8e50>]"
            ]
          },
          "metadata": {},
          "execution_count": 22
        },
        {
          "output_type": "display_data",
          "data": {
            "text/plain": [
              "<Figure size 640x480 with 2 Axes>"
            ],
            "image/png": "[encoded data removed]"
          },
          "metadata": {}
        }
      ]
    },
    {
      "cell_type": "code",
      "source": [],
      "metadata": {
        "id": "bzNzDwRmqD5r"
      },
      "execution_count": null,
      "outputs": []
    }
  ]
}